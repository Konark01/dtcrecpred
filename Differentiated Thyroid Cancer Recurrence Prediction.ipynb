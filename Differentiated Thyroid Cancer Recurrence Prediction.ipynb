{
 "cells": [
  {
   "cell_type": "code",
   "execution_count": 1,
   "id": "5fdbdb16-74d8-4f11-bcb3-5d1504a8e6eb",
   "metadata": {},
   "outputs": [],
   "source": [
    "import matplotlib.pyplot as plt\n",
    "import seaborn as sns\n",
    "import pandas as pd\n",
    "import numpy as np\n",
    "import warnings\n",
    "warnings.filterwarnings('ignore')\n",
    "%run mlfunc.ipynb"
   ]
  },
  {
   "cell_type": "code",
   "execution_count": 2,
   "id": "3b3dbd38-32bc-491a-8832-9aa7fea28a28",
   "metadata": {},
   "outputs": [
    {
     "data": {
      "text/html": [
       "<div>\n",
       "<style scoped>\n",
       "    .dataframe tbody tr th:only-of-type {\n",
       "        vertical-align: middle;\n",
       "    }\n",
       "\n",
       "    .dataframe tbody tr th {\n",
       "        vertical-align: top;\n",
       "    }\n",
       "\n",
       "    .dataframe thead th {\n",
       "        text-align: right;\n",
       "    }\n",
       "</style>\n",
       "<table border=\"1\" class=\"dataframe\">\n",
       "  <thead>\n",
       "    <tr style=\"text-align: right;\">\n",
       "      <th></th>\n",
       "      <th>Age</th>\n",
       "      <th>Gender</th>\n",
       "      <th>Smoking</th>\n",
       "      <th>Hx Smoking</th>\n",
       "      <th>Hx Radiothreapy</th>\n",
       "      <th>Thyroid Function</th>\n",
       "      <th>Physical Examination</th>\n",
       "      <th>Adenopathy</th>\n",
       "      <th>Pathology</th>\n",
       "      <th>Focality</th>\n",
       "      <th>Risk</th>\n",
       "      <th>T</th>\n",
       "      <th>N</th>\n",
       "      <th>M</th>\n",
       "      <th>Stage</th>\n",
       "      <th>Response</th>\n",
       "      <th>Recurred</th>\n",
       "    </tr>\n",
       "  </thead>\n",
       "  <tbody>\n",
       "    <tr>\n",
       "      <th>0</th>\n",
       "      <td>27</td>\n",
       "      <td>F</td>\n",
       "      <td>No</td>\n",
       "      <td>No</td>\n",
       "      <td>No</td>\n",
       "      <td>Euthyroid</td>\n",
       "      <td>Single nodular goiter-left</td>\n",
       "      <td>No</td>\n",
       "      <td>Micropapillary</td>\n",
       "      <td>Uni-Focal</td>\n",
       "      <td>Low</td>\n",
       "      <td>T1a</td>\n",
       "      <td>N0</td>\n",
       "      <td>M0</td>\n",
       "      <td>I</td>\n",
       "      <td>Indeterminate</td>\n",
       "      <td>No</td>\n",
       "    </tr>\n",
       "    <tr>\n",
       "      <th>1</th>\n",
       "      <td>34</td>\n",
       "      <td>F</td>\n",
       "      <td>No</td>\n",
       "      <td>Yes</td>\n",
       "      <td>No</td>\n",
       "      <td>Euthyroid</td>\n",
       "      <td>Multinodular goiter</td>\n",
       "      <td>No</td>\n",
       "      <td>Micropapillary</td>\n",
       "      <td>Uni-Focal</td>\n",
       "      <td>Low</td>\n",
       "      <td>T1a</td>\n",
       "      <td>N0</td>\n",
       "      <td>M0</td>\n",
       "      <td>I</td>\n",
       "      <td>Excellent</td>\n",
       "      <td>No</td>\n",
       "    </tr>\n",
       "    <tr>\n",
       "      <th>2</th>\n",
       "      <td>30</td>\n",
       "      <td>F</td>\n",
       "      <td>No</td>\n",
       "      <td>No</td>\n",
       "      <td>No</td>\n",
       "      <td>Euthyroid</td>\n",
       "      <td>Single nodular goiter-right</td>\n",
       "      <td>No</td>\n",
       "      <td>Micropapillary</td>\n",
       "      <td>Uni-Focal</td>\n",
       "      <td>Low</td>\n",
       "      <td>T1a</td>\n",
       "      <td>N0</td>\n",
       "      <td>M0</td>\n",
       "      <td>I</td>\n",
       "      <td>Excellent</td>\n",
       "      <td>No</td>\n",
       "    </tr>\n",
       "    <tr>\n",
       "      <th>3</th>\n",
       "      <td>62</td>\n",
       "      <td>F</td>\n",
       "      <td>No</td>\n",
       "      <td>No</td>\n",
       "      <td>No</td>\n",
       "      <td>Euthyroid</td>\n",
       "      <td>Single nodular goiter-right</td>\n",
       "      <td>No</td>\n",
       "      <td>Micropapillary</td>\n",
       "      <td>Uni-Focal</td>\n",
       "      <td>Low</td>\n",
       "      <td>T1a</td>\n",
       "      <td>N0</td>\n",
       "      <td>M0</td>\n",
       "      <td>I</td>\n",
       "      <td>Excellent</td>\n",
       "      <td>No</td>\n",
       "    </tr>\n",
       "    <tr>\n",
       "      <th>4</th>\n",
       "      <td>62</td>\n",
       "      <td>F</td>\n",
       "      <td>No</td>\n",
       "      <td>No</td>\n",
       "      <td>No</td>\n",
       "      <td>Euthyroid</td>\n",
       "      <td>Multinodular goiter</td>\n",
       "      <td>No</td>\n",
       "      <td>Micropapillary</td>\n",
       "      <td>Multi-Focal</td>\n",
       "      <td>Low</td>\n",
       "      <td>T1a</td>\n",
       "      <td>N0</td>\n",
       "      <td>M0</td>\n",
       "      <td>I</td>\n",
       "      <td>Excellent</td>\n",
       "      <td>No</td>\n",
       "    </tr>\n",
       "  </tbody>\n",
       "</table>\n",
       "</div>"
      ],
      "text/plain": [
       "   Age Gender Smoking Hx Smoking Hx Radiothreapy Thyroid Function  \\\n",
       "0   27      F      No         No              No        Euthyroid   \n",
       "1   34      F      No        Yes              No        Euthyroid   \n",
       "2   30      F      No         No              No        Euthyroid   \n",
       "3   62      F      No         No              No        Euthyroid   \n",
       "4   62      F      No         No              No        Euthyroid   \n",
       "\n",
       "          Physical Examination Adenopathy       Pathology     Focality Risk  \\\n",
       "0   Single nodular goiter-left         No  Micropapillary    Uni-Focal  Low   \n",
       "1          Multinodular goiter         No  Micropapillary    Uni-Focal  Low   \n",
       "2  Single nodular goiter-right         No  Micropapillary    Uni-Focal  Low   \n",
       "3  Single nodular goiter-right         No  Micropapillary    Uni-Focal  Low   \n",
       "4          Multinodular goiter         No  Micropapillary  Multi-Focal  Low   \n",
       "\n",
       "     T   N   M Stage       Response Recurred  \n",
       "0  T1a  N0  M0     I  Indeterminate       No  \n",
       "1  T1a  N0  M0     I      Excellent       No  \n",
       "2  T1a  N0  M0     I      Excellent       No  \n",
       "3  T1a  N0  M0     I      Excellent       No  \n",
       "4  T1a  N0  M0     I      Excellent       No  "
      ]
     },
     "execution_count": 2,
     "metadata": {},
     "output_type": "execute_result"
    }
   ],
   "source": [
    "data = pd.read_csv(r\"C:\\Konark\\Fireblaze\\Machine Learning\\Final Project\\Differentiated Thyroid Cancer Recurrence.csv\")\n",
    "data.head()"
   ]
  },
  {
   "cell_type": "code",
   "execution_count": 3,
   "id": "cbef01b4-af73-4c30-9369-ad0c6fcf3400",
   "metadata": {},
   "outputs": [
    {
     "data": {
      "text/plain": [
       "(383, 17)"
      ]
     },
     "execution_count": 3,
     "metadata": {},
     "output_type": "execute_result"
    }
   ],
   "source": [
    "data.shape"
   ]
  },
  {
   "cell_type": "markdown",
   "id": "9e2c693a-2270-4169-8f15-f569310e64ee",
   "metadata": {},
   "source": [
    "We have a total of 17 columns and 383 rows in the given dataset"
   ]
  },
  {
   "cell_type": "code",
   "execution_count": 4,
   "id": "16d484a9-68e5-405e-b01e-26b221272f69",
   "metadata": {},
   "outputs": [
    {
     "name": "stdout",
     "output_type": "stream",
     "text": [
      "<class 'pandas.core.frame.DataFrame'>\n",
      "RangeIndex: 383 entries, 0 to 382\n",
      "Data columns (total 17 columns):\n",
      " #   Column                Non-Null Count  Dtype \n",
      "---  ------                --------------  ----- \n",
      " 0   Age                   383 non-null    int64 \n",
      " 1   Gender                383 non-null    object\n",
      " 2   Smoking               383 non-null    object\n",
      " 3   Hx Smoking            383 non-null    object\n",
      " 4   Hx Radiothreapy       383 non-null    object\n",
      " 5   Thyroid Function      383 non-null    object\n",
      " 6   Physical Examination  383 non-null    object\n",
      " 7   Adenopathy            383 non-null    object\n",
      " 8   Pathology             383 non-null    object\n",
      " 9   Focality              383 non-null    object\n",
      " 10  Risk                  383 non-null    object\n",
      " 11  T                     383 non-null    object\n",
      " 12  N                     383 non-null    object\n",
      " 13  M                     383 non-null    object\n",
      " 14  Stage                 383 non-null    object\n",
      " 15  Response              383 non-null    object\n",
      " 16  Recurred              383 non-null    object\n",
      "dtypes: int64(1), object(16)\n",
      "memory usage: 51.0+ KB\n"
     ]
    }
   ],
   "source": [
    "data.info()"
   ]
  },
  {
   "cell_type": "code",
   "execution_count": 5,
   "id": "9146cb41-9930-4ec3-b34b-047316882c04",
   "metadata": {},
   "outputs": [
    {
     "data": {
      "text/html": [
       "<div>\n",
       "<style scoped>\n",
       "    .dataframe tbody tr th:only-of-type {\n",
       "        vertical-align: middle;\n",
       "    }\n",
       "\n",
       "    .dataframe tbody tr th {\n",
       "        vertical-align: top;\n",
       "    }\n",
       "\n",
       "    .dataframe thead th {\n",
       "        text-align: right;\n",
       "    }\n",
       "</style>\n",
       "<table border=\"1\" class=\"dataframe\">\n",
       "  <thead>\n",
       "    <tr style=\"text-align: right;\">\n",
       "      <th></th>\n",
       "      <th>Gender</th>\n",
       "      <th>Smoking</th>\n",
       "      <th>Hx Smoking</th>\n",
       "      <th>Hx Radiothreapy</th>\n",
       "      <th>Thyroid Function</th>\n",
       "      <th>Physical Examination</th>\n",
       "      <th>Adenopathy</th>\n",
       "      <th>Pathology</th>\n",
       "      <th>Focality</th>\n",
       "      <th>Risk</th>\n",
       "      <th>T</th>\n",
       "      <th>N</th>\n",
       "      <th>M</th>\n",
       "      <th>Stage</th>\n",
       "      <th>Response</th>\n",
       "      <th>Recurred</th>\n",
       "    </tr>\n",
       "  </thead>\n",
       "  <tbody>\n",
       "    <tr>\n",
       "      <th>count</th>\n",
       "      <td>383</td>\n",
       "      <td>383</td>\n",
       "      <td>383</td>\n",
       "      <td>383</td>\n",
       "      <td>383</td>\n",
       "      <td>383</td>\n",
       "      <td>383</td>\n",
       "      <td>383</td>\n",
       "      <td>383</td>\n",
       "      <td>383</td>\n",
       "      <td>383</td>\n",
       "      <td>383</td>\n",
       "      <td>383</td>\n",
       "      <td>383</td>\n",
       "      <td>383</td>\n",
       "      <td>383</td>\n",
       "    </tr>\n",
       "    <tr>\n",
       "      <th>unique</th>\n",
       "      <td>2</td>\n",
       "      <td>2</td>\n",
       "      <td>2</td>\n",
       "      <td>2</td>\n",
       "      <td>5</td>\n",
       "      <td>5</td>\n",
       "      <td>6</td>\n",
       "      <td>4</td>\n",
       "      <td>2</td>\n",
       "      <td>3</td>\n",
       "      <td>7</td>\n",
       "      <td>3</td>\n",
       "      <td>2</td>\n",
       "      <td>5</td>\n",
       "      <td>4</td>\n",
       "      <td>2</td>\n",
       "    </tr>\n",
       "    <tr>\n",
       "      <th>top</th>\n",
       "      <td>F</td>\n",
       "      <td>No</td>\n",
       "      <td>No</td>\n",
       "      <td>No</td>\n",
       "      <td>Euthyroid</td>\n",
       "      <td>Multinodular goiter</td>\n",
       "      <td>No</td>\n",
       "      <td>Papillary</td>\n",
       "      <td>Uni-Focal</td>\n",
       "      <td>Low</td>\n",
       "      <td>T2</td>\n",
       "      <td>N0</td>\n",
       "      <td>M0</td>\n",
       "      <td>I</td>\n",
       "      <td>Excellent</td>\n",
       "      <td>No</td>\n",
       "    </tr>\n",
       "    <tr>\n",
       "      <th>freq</th>\n",
       "      <td>312</td>\n",
       "      <td>334</td>\n",
       "      <td>355</td>\n",
       "      <td>376</td>\n",
       "      <td>332</td>\n",
       "      <td>140</td>\n",
       "      <td>277</td>\n",
       "      <td>287</td>\n",
       "      <td>247</td>\n",
       "      <td>249</td>\n",
       "      <td>151</td>\n",
       "      <td>268</td>\n",
       "      <td>365</td>\n",
       "      <td>333</td>\n",
       "      <td>208</td>\n",
       "      <td>275</td>\n",
       "    </tr>\n",
       "  </tbody>\n",
       "</table>\n",
       "</div>"
      ],
      "text/plain": [
       "       Gender Smoking Hx Smoking Hx Radiothreapy Thyroid Function  \\\n",
       "count     383     383        383             383              383   \n",
       "unique      2       2          2               2                5   \n",
       "top         F      No         No              No        Euthyroid   \n",
       "freq      312     334        355             376              332   \n",
       "\n",
       "       Physical Examination Adenopathy  Pathology   Focality Risk    T    N  \\\n",
       "count                   383        383        383        383  383  383  383   \n",
       "unique                    5          6          4          2    3    7    3   \n",
       "top     Multinodular goiter         No  Papillary  Uni-Focal  Low   T2   N0   \n",
       "freq                    140        277        287        247  249  151  268   \n",
       "\n",
       "          M Stage   Response Recurred  \n",
       "count   383   383        383      383  \n",
       "unique    2     5          4        2  \n",
       "top      M0     I  Excellent       No  \n",
       "freq    365   333        208      275  "
      ]
     },
     "execution_count": 5,
     "metadata": {},
     "output_type": "execute_result"
    }
   ],
   "source": [
    "data.describe(include='object')"
   ]
  },
  {
   "cell_type": "code",
   "execution_count": 6,
   "id": "40cc123b-db12-4a0d-a574-8481c59bf1a7",
   "metadata": {},
   "outputs": [
    {
     "data": {
      "text/html": [
       "<div>\n",
       "<style scoped>\n",
       "    .dataframe tbody tr th:only-of-type {\n",
       "        vertical-align: middle;\n",
       "    }\n",
       "\n",
       "    .dataframe tbody tr th {\n",
       "        vertical-align: top;\n",
       "    }\n",
       "\n",
       "    .dataframe thead th {\n",
       "        text-align: right;\n",
       "    }\n",
       "</style>\n",
       "<table border=\"1\" class=\"dataframe\">\n",
       "  <thead>\n",
       "    <tr style=\"text-align: right;\">\n",
       "      <th></th>\n",
       "      <th>Age</th>\n",
       "    </tr>\n",
       "  </thead>\n",
       "  <tbody>\n",
       "    <tr>\n",
       "      <th>count</th>\n",
       "      <td>383.000000</td>\n",
       "    </tr>\n",
       "    <tr>\n",
       "      <th>mean</th>\n",
       "      <td>40.866841</td>\n",
       "    </tr>\n",
       "    <tr>\n",
       "      <th>std</th>\n",
       "      <td>15.134494</td>\n",
       "    </tr>\n",
       "    <tr>\n",
       "      <th>min</th>\n",
       "      <td>15.000000</td>\n",
       "    </tr>\n",
       "    <tr>\n",
       "      <th>25%</th>\n",
       "      <td>29.000000</td>\n",
       "    </tr>\n",
       "    <tr>\n",
       "      <th>50%</th>\n",
       "      <td>37.000000</td>\n",
       "    </tr>\n",
       "    <tr>\n",
       "      <th>75%</th>\n",
       "      <td>51.000000</td>\n",
       "    </tr>\n",
       "    <tr>\n",
       "      <th>max</th>\n",
       "      <td>82.000000</td>\n",
       "    </tr>\n",
       "  </tbody>\n",
       "</table>\n",
       "</div>"
      ],
      "text/plain": [
       "              Age\n",
       "count  383.000000\n",
       "mean    40.866841\n",
       "std     15.134494\n",
       "min     15.000000\n",
       "25%     29.000000\n",
       "50%     37.000000\n",
       "75%     51.000000\n",
       "max     82.000000"
      ]
     },
     "execution_count": 6,
     "metadata": {},
     "output_type": "execute_result"
    }
   ],
   "source": [
    "data.describe()"
   ]
  },
  {
   "cell_type": "code",
   "execution_count": null,
   "id": "e14c7a9e-94ff-49c3-8d1f-7a5c3fbab153",
   "metadata": {},
   "outputs": [],
   "source": []
  },
  {
   "cell_type": "code",
   "execution_count": 7,
   "id": "7b0d7095-c78a-4920-95dc-6b6f4f0e3a5f",
   "metadata": {},
   "outputs": [
    {
     "data": {
      "text/plain": [
       "Text(0.5, 1.0, 'Boxplot for Age')"
      ]
     },
     "execution_count": 7,
     "metadata": {},
     "output_type": "execute_result"
    },
    {
     "data": {
      "image/png": "[encoded data removed]",
      "text/plain": [
       "<Figure size 640x480 with 1 Axes>"
      ]
     },
     "metadata": {},
     "output_type": "display_data"
    }
   ],
   "source": [
    "data['Age'].plot(kind='box')\n",
    "plt.title('Boxplot for Age')"
   ]
  },
  {
   "cell_type": "code",
   "execution_count": 8,
   "id": "b16b5308-a0c0-4577-b059-39f304696af3",
   "metadata": {},
   "outputs": [
    {
     "data": {
      "text/plain": [
       "Text(0.5, 1.0, 'Histplot with Kde for Age')"
      ]
     },
     "execution_count": 8,
     "metadata": {},
     "output_type": "execute_result"
    },
    {
     "data": {
      "image/png": "[encoded data removed]",
      "text/plain": [
       "<Figure size 640x480 with 1 Axes>"
      ]
     },
     "metadata": {},
     "output_type": "display_data"
    }
   ],
   "source": [
    "sns.histplot(data['Age'],kde=True)\n",
    "plt.title('Histplot with Kde for Age')"
   ]
  },
  {
   "cell_type": "code",
   "execution_count": 9,
   "id": "fb745ef0-dd25-4ec4-8e30-925059991724",
   "metadata": {},
   "outputs": [
    {
     "data": {
      "text/plain": [
       "0.7197318617338616"
      ]
     },
     "execution_count": 9,
     "metadata": {},
     "output_type": "execute_result"
    }
   ],
   "source": [
    "data['Age'].skew()"
   ]
  },
  {
   "cell_type": "code",
   "execution_count": 10,
   "id": "9e2ab3e9-32a4-42c7-951e-42b4c8a6829a",
   "metadata": {},
   "outputs": [],
   "source": [
    "from sklearn.preprocessing import PowerTransformer"
   ]
  },
  {
   "cell_type": "code",
   "execution_count": 11,
   "id": "f9d09756-6191-4f75-ab43-4dc67ea47b95",
   "metadata": {},
   "outputs": [],
   "source": [
    "PT = PowerTransformer()"
   ]
  },
  {
   "cell_type": "code",
   "execution_count": 12,
   "id": "e2027bc3-5b19-4a9b-b732-bff79d449039",
   "metadata": {},
   "outputs": [],
   "source": [
    "data['Age'] = PT.fit_transform(data[['Age']])"
   ]
  },
  {
   "cell_type": "code",
   "execution_count": 13,
   "id": "acfa6ac5-c983-46fb-9c97-2d17a086a2fc",
   "metadata": {},
   "outputs": [
    {
     "data": {
      "text/plain": [
       "0.009941251036983711"
      ]
     },
     "execution_count": 13,
     "metadata": {},
     "output_type": "execute_result"
    }
   ],
   "source": [
    "data['Age'].skew()"
   ]
  },
  {
   "cell_type": "code",
   "execution_count": 14,
   "id": "09cf6880-f09f-41eb-a4dd-c9cbb0b9707e",
   "metadata": {},
   "outputs": [
    {
     "data": {
      "text/plain": [
       "Text(0.5, 1.0, 'Histplot with Kde for Age after Transformation')"
      ]
     },
     "execution_count": 14,
     "metadata": {},
     "output_type": "execute_result"
    },
    {
     "data": {
      "image/png": "[encoded data removed]",
      "text/plain": [
       "<Figure size 640x480 with 1 Axes>"
      ]
     },
     "metadata": {},
     "output_type": "display_data"
    }
   ],
   "source": [
    "sns.histplot(data['Age'],kde=True)\n",
    "plt.title('Histplot with Kde for Age after Transformation')"
   ]
  },
  {
   "cell_type": "code",
   "execution_count": 15,
   "id": "5ac9e43c-43f5-4b66-aee7-771667be787a",
   "metadata": {},
   "outputs": [],
   "source": [
    "from sklearn.preprocessing import LabelEncoder"
   ]
  },
  {
   "cell_type": "code",
   "execution_count": 16,
   "id": "d17bc777-a847-41be-b389-e53a4966bfc3",
   "metadata": {},
   "outputs": [],
   "source": [
    "LE = LabelEncoder()"
   ]
  },
  {
   "cell_type": "code",
   "execution_count": 17,
   "id": "30321f05-9d74-45fe-a9d4-4386c0f4a631",
   "metadata": {},
   "outputs": [],
   "source": [
    "for i in data.columns[1:]:\n",
    "    data[i] = LE.fit_transform(data[[i]])"
   ]
  },
  {
   "cell_type": "code",
   "execution_count": 18,
   "id": "efee4936-b99c-4236-8b74-c18e3eb1ac12",
   "metadata": {},
   "outputs": [
    {
     "data": {
      "text/plain": [
       "['Gender',\n",
       " 'Smoking',\n",
       " 'Hx Smoking',\n",
       " 'Hx Radiothreapy',\n",
       " 'Thyroid Function',\n",
       " 'Physical Examination',\n",
       " 'Adenopathy',\n",
       " 'Pathology',\n",
       " 'Focality',\n",
       " 'Risk',\n",
       " 'T',\n",
       " 'N',\n",
       " 'M',\n",
       " 'Stage',\n",
       " 'Response',\n",
       " 'Recurred']"
      ]
     },
     "execution_count": 18,
     "metadata": {},
     "output_type": "execute_result"
    }
   ],
   "source": [
    "list(data.columns[1:])"
   ]
  },
  {
   "cell_type": "code",
   "execution_count": 19,
   "id": "fd2e8b1e-6066-4d54-96fd-0f6ec67a0895",
   "metadata": {},
   "outputs": [
    {
     "data": {
      "text/html": [
       "<div>\n",
       "<style scoped>\n",
       "    .dataframe tbody tr th:only-of-type {\n",
       "        vertical-align: middle;\n",
       "    }\n",
       "\n",
       "    .dataframe tbody tr th {\n",
       "        vertical-align: top;\n",
       "    }\n",
       "\n",
       "    .dataframe thead th {\n",
       "        text-align: right;\n",
       "    }\n",
       "</style>\n",
       "<table border=\"1\" class=\"dataframe\">\n",
       "  <thead>\n",
       "    <tr style=\"text-align: right;\">\n",
       "      <th></th>\n",
       "      <th>Age</th>\n",
       "      <th>Gender</th>\n",
       "      <th>Smoking</th>\n",
       "      <th>Hx Smoking</th>\n",
       "      <th>Hx Radiothreapy</th>\n",
       "      <th>Thyroid Function</th>\n",
       "      <th>Physical Examination</th>\n",
       "      <th>Adenopathy</th>\n",
       "      <th>Pathology</th>\n",
       "      <th>Focality</th>\n",
       "      <th>Risk</th>\n",
       "      <th>T</th>\n",
       "      <th>N</th>\n",
       "      <th>M</th>\n",
       "      <th>Stage</th>\n",
       "      <th>Response</th>\n",
       "      <th>Recurred</th>\n",
       "    </tr>\n",
       "  </thead>\n",
       "  <tbody>\n",
       "    <tr>\n",
       "      <th>0</th>\n",
       "      <td>-0.955702</td>\n",
       "      <td>0</td>\n",
       "      <td>0</td>\n",
       "      <td>0</td>\n",
       "      <td>0</td>\n",
       "      <td>2</td>\n",
       "      <td>3</td>\n",
       "      <td>3</td>\n",
       "      <td>2</td>\n",
       "      <td>1</td>\n",
       "      <td>2</td>\n",
       "      <td>0</td>\n",
       "      <td>0</td>\n",
       "      <td>0</td>\n",
       "      <td>0</td>\n",
       "      <td>2</td>\n",
       "      <td>0</td>\n",
       "    </tr>\n",
       "    <tr>\n",
       "      <th>1</th>\n",
       "      <td>-0.309252</td>\n",
       "      <td>0</td>\n",
       "      <td>0</td>\n",
       "      <td>1</td>\n",
       "      <td>0</td>\n",
       "      <td>2</td>\n",
       "      <td>1</td>\n",
       "      <td>3</td>\n",
       "      <td>2</td>\n",
       "      <td>1</td>\n",
       "      <td>2</td>\n",
       "      <td>0</td>\n",
       "      <td>0</td>\n",
       "      <td>0</td>\n",
       "      <td>0</td>\n",
       "      <td>1</td>\n",
       "      <td>0</td>\n",
       "    </tr>\n",
       "    <tr>\n",
       "      <th>2</th>\n",
       "      <td>-0.658766</td>\n",
       "      <td>0</td>\n",
       "      <td>0</td>\n",
       "      <td>0</td>\n",
       "      <td>0</td>\n",
       "      <td>2</td>\n",
       "      <td>4</td>\n",
       "      <td>3</td>\n",
       "      <td>2</td>\n",
       "      <td>1</td>\n",
       "      <td>2</td>\n",
       "      <td>0</td>\n",
       "      <td>0</td>\n",
       "      <td>0</td>\n",
       "      <td>0</td>\n",
       "      <td>1</td>\n",
       "      <td>0</td>\n",
       "    </tr>\n",
       "    <tr>\n",
       "      <th>3</th>\n",
       "      <td>1.315820</td>\n",
       "      <td>0</td>\n",
       "      <td>0</td>\n",
       "      <td>0</td>\n",
       "      <td>0</td>\n",
       "      <td>2</td>\n",
       "      <td>4</td>\n",
       "      <td>3</td>\n",
       "      <td>2</td>\n",
       "      <td>1</td>\n",
       "      <td>2</td>\n",
       "      <td>0</td>\n",
       "      <td>0</td>\n",
       "      <td>0</td>\n",
       "      <td>0</td>\n",
       "      <td>1</td>\n",
       "      <td>0</td>\n",
       "    </tr>\n",
       "    <tr>\n",
       "      <th>4</th>\n",
       "      <td>1.315820</td>\n",
       "      <td>0</td>\n",
       "      <td>0</td>\n",
       "      <td>0</td>\n",
       "      <td>0</td>\n",
       "      <td>2</td>\n",
       "      <td>1</td>\n",
       "      <td>3</td>\n",
       "      <td>2</td>\n",
       "      <td>0</td>\n",
       "      <td>2</td>\n",
       "      <td>0</td>\n",
       "      <td>0</td>\n",
       "      <td>0</td>\n",
       "      <td>0</td>\n",
       "      <td>1</td>\n",
       "      <td>0</td>\n",
       "    </tr>\n",
       "  </tbody>\n",
       "</table>\n",
       "</div>"
      ],
      "text/plain": [
       "        Age  Gender  Smoking  Hx Smoking  Hx Radiothreapy  Thyroid Function  \\\n",
       "0 -0.955702       0        0           0                0                 2   \n",
       "1 -0.309252       0        0           1                0                 2   \n",
       "2 -0.658766       0        0           0                0                 2   \n",
       "3  1.315820       0        0           0                0                 2   \n",
       "4  1.315820       0        0           0                0                 2   \n",
       "\n",
       "   Physical Examination  Adenopathy  Pathology  Focality  Risk  T  N  M  \\\n",
       "0                     3           3          2         1     2  0  0  0   \n",
       "1                     1           3          2         1     2  0  0  0   \n",
       "2                     4           3          2         1     2  0  0  0   \n",
       "3                     4           3          2         1     2  0  0  0   \n",
       "4                     1           3          2         0     2  0  0  0   \n",
       "\n",
       "   Stage  Response  Recurred  \n",
       "0      0         2         0  \n",
       "1      0         1         0  \n",
       "2      0         1         0  \n",
       "3      0         1         0  \n",
       "4      0         1         0  "
      ]
     },
     "execution_count": 19,
     "metadata": {},
     "output_type": "execute_result"
    }
   ],
   "source": [
    "data.head()"
   ]
  },
  {
   "cell_type": "code",
   "execution_count": null,
   "id": "4dadf6a3-d584-40d7-9172-570976beac04",
   "metadata": {},
   "outputs": [],
   "source": []
  },
  {
   "cell_type": "code",
   "execution_count": 20,
   "id": "8fe005d1-3f3f-4efa-a916-6f7cb5e9a8c5",
   "metadata": {},
   "outputs": [],
   "source": [
    "from sklearn.model_selection import train_test_split\n",
    "from sklearn.linear_model import LogisticRegression\n",
    "from sklearn.neighbors import KNeighborsClassifier\n",
    "from sklearn.ensemble import RandomForestClassifier\n",
    "from sklearn.tree import DecisionTreeClassifier\n",
    "from sklearn.metrics import accuracy_score,confusion_matrix,ConfusionMatrixDisplay,classification_report"
   ]
  },
  {
   "cell_type": "code",
   "execution_count": 21,
   "id": "d66ec78a-83c0-44b0-9c50-cf186f2d9bea",
   "metadata": {},
   "outputs": [],
   "source": [
    "X = data.drop('Recurred',axis=1)\n",
    "y = data.Recurred"
   ]
  },
  {
   "cell_type": "code",
   "execution_count": 22,
   "id": "83cb6d92-22c6-4bad-adad-68e13c228625",
   "metadata": {},
   "outputs": [],
   "source": [
    "X_train,X_test,y_train,y_test = train_test_split(X,y,test_size=0.2,random_state=42)"
   ]
  },
  {
   "cell_type": "code",
   "execution_count": 23,
   "id": "dd87b657-f699-4933-bc15-3cadd0f147a2",
   "metadata": {},
   "outputs": [
    {
     "data": {
      "text/html": [
       "<div>\n",
       "<style scoped>\n",
       "    .dataframe tbody tr th:only-of-type {\n",
       "        vertical-align: middle;\n",
       "    }\n",
       "\n",
       "    .dataframe tbody tr th {\n",
       "        vertical-align: top;\n",
       "    }\n",
       "\n",
       "    .dataframe thead th {\n",
       "        text-align: right;\n",
       "    }\n",
       "</style>\n",
       "<table border=\"1\" class=\"dataframe\">\n",
       "  <thead>\n",
       "    <tr style=\"text-align: right;\">\n",
       "      <th></th>\n",
       "      <th>Training Score</th>\n",
       "      <th>Accuracy Score</th>\n",
       "    </tr>\n",
       "  </thead>\n",
       "  <tbody>\n",
       "    <tr>\n",
       "      <th>Logistic Regression</th>\n",
       "      <td>0.915033</td>\n",
       "      <td>0.935065</td>\n",
       "    </tr>\n",
       "    <tr>\n",
       "      <th>KNN Classifier</th>\n",
       "      <td>0.918301</td>\n",
       "      <td>0.909091</td>\n",
       "    </tr>\n",
       "    <tr>\n",
       "      <th>Random Forest Classifier</th>\n",
       "      <td>1.000000</td>\n",
       "      <td>0.974026</td>\n",
       "    </tr>\n",
       "    <tr>\n",
       "      <th>Decision Tree Classifier</th>\n",
       "      <td>1.000000</td>\n",
       "      <td>0.896104</td>\n",
       "    </tr>\n",
       "  </tbody>\n",
       "</table>\n",
       "</div>"
      ],
      "text/plain": [
       "                          Training Score  Accuracy Score\n",
       "Logistic Regression             0.915033        0.935065\n",
       "KNN Classifier                  0.918301        0.909091\n",
       "Random Forest Classifier        1.000000        0.974026\n",
       "Decision Tree Classifier        1.000000        0.896104"
      ]
     },
     "execution_count": 23,
     "metadata": {},
     "output_type": "execute_result"
    }
   ],
   "source": [
    "r = ['Logistic Regression','KNN Classifier','Random Forest Classifier','Decision Tree Classifier']\n",
    "L_pred = []\n",
    "LTRSC = []\n",
    "LTSSC = []\n",
    "CM = []\n",
    "L = [LogisticRegression(max_iter=10000),KNeighborsClassifier(n_neighbors=5),RandomForestClassifier(n_estimators=12),DecisionTreeClassifier()]\n",
    "for i in range(len(L)):    \n",
    "    L[i].fit(X_train,y_train)\n",
    "    L_pred.append(L[i].predict(X_test))\n",
    "    LTRSC.append(L[i].score(X_train,y_train))\n",
    "    LTSSC.append(accuracy_score(y_test,L_pred[i]))\n",
    "    CM.append(confusion_matrix(y_test,L_pred[i]))\n",
    "CT = pd.DataFrame({'Training Score': LTRSC,\n",
    "                'Accuracy Score': LTSSC,\n",
    "               },index=[i for i in r])\n",
    "CT"
   ]
  },
  {
   "cell_type": "code",
   "execution_count": null,
   "id": "f594a099-2ec3-4af3-bf17-a4a5e5b2a8b7",
   "metadata": {},
   "outputs": [],
   "source": []
  },
  {
   "cell_type": "code",
   "execution_count": 24,
   "id": "9dd059b6-dbd3-446e-a396-2f869b15012c",
   "metadata": {},
   "outputs": [
    {
     "name": "stdout",
     "output_type": "stream",
     "text": [
      "              precision    recall  f1-score   support\n",
      "\n",
      "           0       0.97      1.00      0.98        58\n",
      "           1       1.00      0.89      0.94        19\n",
      "\n",
      "    accuracy                           0.97        77\n",
      "   macro avg       0.98      0.95      0.96        77\n",
      "weighted avg       0.97      0.97      0.97        77\n",
      "\n"
     ]
    }
   ],
   "source": [
    "print(classification_report(y_test,L_pred[2]))"
   ]
  },
  {
   "cell_type": "code",
   "execution_count": 25,
   "id": "ae896975-f2f6-47ae-a0fd-c2f9ef5c3bcf",
   "metadata": {},
   "outputs": [
    {
     "data": {
      "text/plain": [
       "<Figure size 640x480 with 0 Axes>"
      ]
     },
     "metadata": {},
     "output_type": "display_data"
    },
    {
     "data": {
      "image/png": "[encoded data removed]",
      "text/plain": [
       "<Figure size 640x480 with 2 Axes>"
      ]
     },
     "metadata": {},
     "output_type": "display_data"
    },
    {
     "data": {
      "text/plain": [
       "<Figure size 640x480 with 0 Axes>"
      ]
     },
     "metadata": {},
     "output_type": "display_data"
    },
    {
     "data": {
      "image/png": "[encoded data removed]",
      "text/plain": [
       "<Figure size 640x480 with 2 Axes>"
      ]
     },
     "metadata": {},
     "output_type": "display_data"
    },
    {
     "data": {
      "text/plain": [
       "<Figure size 640x480 with 0 Axes>"
      ]
     },
     "metadata": {},
     "output_type": "display_data"
    },
    {
     "data": {
      "image/png": "[encoded data removed]",
      "text/plain": [
       "<Figure size 640x480 with 2 Axes>"
      ]
     },
     "metadata": {},
     "output_type": "display_data"
    },
    {
     "data": {
      "text/plain": [
       "<Figure size 640x480 with 0 Axes>"
      ]
     },
     "metadata": {},
     "output_type": "display_data"
    },
    {
     "data": {
      "image/png": "[encoded data removed]",
      "text/plain": [
       "<Figure size 640x480 with 2 Axes>"
      ]
     },
     "metadata": {},
     "output_type": "display_data"
    }
   ],
   "source": [
    "for i in range(len(L)):   \n",
    "    plt.figure()\n",
    "    ConfusionMatrixDisplay(CM[i]).plot()\n",
    "    plt.title(r[i]+' Confusion Matrix')\n",
    "    plt.show()"
   ]
  },
  {
   "cell_type": "code",
   "execution_count": null,
   "id": "1021d389-055a-42a2-a170-2f28243e319e",
   "metadata": {},
   "outputs": [],
   "source": []
  },
  {
   "cell_type": "code",
   "execution_count": 26,
   "id": "86de0856-d877-4084-99cb-dddd6c436bd8",
   "metadata": {},
   "outputs": [],
   "source": [
    "Tr = []\n",
    "Ts = []\n",
    "for i in range(3,11):\n",
    "    KNC = KNeighborsClassifier(n_neighbors=i)\n",
    "    KNC.fit(X_train,y_train)\n",
    "    Tr.append(KNC.score(X_train,y_train))\n",
    "    Ts.append(KNC.score(X_test,y_test))"
   ]
  },
  {
   "cell_type": "code",
   "execution_count": 27,
   "id": "81871bc8-b52a-4f34-a054-16876a5289c7",
   "metadata": {},
   "outputs": [
    {
     "data": {
      "image/png": "[encoded data removed]",
      "text/plain": [
       "<Figure size 640x480 with 1 Axes>"
      ]
     },
     "metadata": {},
     "output_type": "display_data"
    }
   ],
   "source": [
    "plt.figure()\n",
    "plt.plot(range(3,11),Tr)\n",
    "plt.plot(range(3,11),Ts)\n",
    "plt.show()"
   ]
  },
  {
   "cell_type": "code",
   "execution_count": 28,
   "id": "9ed78f87-6540-4830-a429-f62972955e3b",
   "metadata": {},
   "outputs": [
    {
     "data": {
      "text/plain": [
       "array([ 0.00929463,  0.02873271,  0.00920974,  0.01566081,  0.0026738 ,\n",
       "       -0.00386215, -0.02338511, -0.00386215])"
      ]
     },
     "execution_count": 28,
     "metadata": {},
     "output_type": "execute_result"
    }
   ],
   "source": [
    "np.array(Tr)-np.array(Ts)"
   ]
  },
  {
   "cell_type": "code",
   "execution_count": null,
   "id": "9fc8f3bd-e920-42e2-b85c-600b6a17c91a",
   "metadata": {},
   "outputs": [],
   "source": []
  },
  {
   "cell_type": "code",
   "execution_count": 29,
   "id": "9a3ebbc2-58a2-4e55-beb4-c2148bfeb436",
   "metadata": {},
   "outputs": [],
   "source": [
    "Tr = []\n",
    "Ts = []\n",
    "for i in range(1,51):\n",
    "    RFC = RandomForestClassifier(n_estimators=i)\n",
    "    RFC.fit(X_train,y_train)\n",
    "    Tr.append(RFC.score(X_train,y_train))\n",
    "    Ts.append(RFC.score(X_test,y_test))"
   ]
  },
  {
   "cell_type": "code",
   "execution_count": 30,
   "id": "88304534-b7dd-4040-9073-cefd94be6835",
   "metadata": {},
   "outputs": [
    {
     "data": {
      "image/png": "[encoded data removed]",
      "text/plain": [
       "<Figure size 640x480 with 1 Axes>"
      ]
     },
     "metadata": {},
     "output_type": "display_data"
    }
   ],
   "source": [
    "plt.figure()\n",
    "plt.plot(range(1,51),Tr)\n",
    "plt.plot(range(1,51),Ts)\n",
    "plt.xticks(range(1,51,2))\n",
    "plt.title('''Plot of training score and accuracy score v/s the number of \n",
    "    estimators for Random Forest Classifier ML Model''')\n",
    "plt.show()"
   ]
  },
  {
   "cell_type": "code",
   "execution_count": 31,
   "id": "2839cfed-9e9d-4c4b-853b-5657329a85c3",
   "metadata": {},
   "outputs": [
    {
     "data": {
      "text/plain": [
       "8"
      ]
     },
     "execution_count": 31,
     "metadata": {},
     "output_type": "execute_result"
    }
   ],
   "source": [
    "np.argmax(Ts)+3"
   ]
  },
  {
   "cell_type": "code",
   "execution_count": 32,
   "id": "f82a51f1-70b9-4540-b9a1-1be60c1d7f73",
   "metadata": {},
   "outputs": [
    {
     "data": {
      "text/html": [
       "<div>\n",
       "<style scoped>\n",
       "    .dataframe tbody tr th:only-of-type {\n",
       "        vertical-align: middle;\n",
       "    }\n",
       "\n",
       "    .dataframe tbody tr th {\n",
       "        vertical-align: top;\n",
       "    }\n",
       "\n",
       "    .dataframe thead th {\n",
       "        text-align: right;\n",
       "    }\n",
       "</style>\n",
       "<table border=\"1\" class=\"dataframe\">\n",
       "  <thead>\n",
       "    <tr style=\"text-align: right;\">\n",
       "      <th></th>\n",
       "      <th>Age</th>\n",
       "      <th>Gender</th>\n",
       "      <th>Smoking</th>\n",
       "      <th>Hx Smoking</th>\n",
       "      <th>Hx Radiothreapy</th>\n",
       "      <th>Thyroid Function</th>\n",
       "      <th>Physical Examination</th>\n",
       "      <th>Adenopathy</th>\n",
       "      <th>Pathology</th>\n",
       "      <th>Focality</th>\n",
       "      <th>Risk</th>\n",
       "      <th>T</th>\n",
       "      <th>N</th>\n",
       "      <th>M</th>\n",
       "      <th>Stage</th>\n",
       "      <th>Response</th>\n",
       "    </tr>\n",
       "  </thead>\n",
       "  <tbody>\n",
       "    <tr>\n",
       "      <th>268</th>\n",
       "      <td>-0.478097</td>\n",
       "      <td>0</td>\n",
       "      <td>0</td>\n",
       "      <td>0</td>\n",
       "      <td>0</td>\n",
       "      <td>2</td>\n",
       "      <td>3</td>\n",
       "      <td>3</td>\n",
       "      <td>3</td>\n",
       "      <td>1</td>\n",
       "      <td>2</td>\n",
       "      <td>3</td>\n",
       "      <td>0</td>\n",
       "      <td>0</td>\n",
       "      <td>0</td>\n",
       "      <td>1</td>\n",
       "    </tr>\n",
       "    <tr>\n",
       "      <th>250</th>\n",
       "      <td>-0.658766</td>\n",
       "      <td>0</td>\n",
       "      <td>0</td>\n",
       "      <td>0</td>\n",
       "      <td>0</td>\n",
       "      <td>4</td>\n",
       "      <td>2</td>\n",
       "      <td>5</td>\n",
       "      <td>0</td>\n",
       "      <td>1</td>\n",
       "      <td>2</td>\n",
       "      <td>3</td>\n",
       "      <td>0</td>\n",
       "      <td>0</td>\n",
       "      <td>0</td>\n",
       "      <td>1</td>\n",
       "    </tr>\n",
       "    <tr>\n",
       "      <th>318</th>\n",
       "      <td>-0.658766</td>\n",
       "      <td>0</td>\n",
       "      <td>0</td>\n",
       "      <td>0</td>\n",
       "      <td>0</td>\n",
       "      <td>2</td>\n",
       "      <td>1</td>\n",
       "      <td>0</td>\n",
       "      <td>3</td>\n",
       "      <td>0</td>\n",
       "      <td>1</td>\n",
       "      <td>3</td>\n",
       "      <td>2</td>\n",
       "      <td>0</td>\n",
       "      <td>0</td>\n",
       "      <td>3</td>\n",
       "    </tr>\n",
       "    <tr>\n",
       "      <th>331</th>\n",
       "      <td>0.797392</td>\n",
       "      <td>0</td>\n",
       "      <td>0</td>\n",
       "      <td>0</td>\n",
       "      <td>0</td>\n",
       "      <td>2</td>\n",
       "      <td>3</td>\n",
       "      <td>3</td>\n",
       "      <td>0</td>\n",
       "      <td>1</td>\n",
       "      <td>1</td>\n",
       "      <td>3</td>\n",
       "      <td>0</td>\n",
       "      <td>0</td>\n",
       "      <td>0</td>\n",
       "      <td>3</td>\n",
       "    </tr>\n",
       "    <tr>\n",
       "      <th>56</th>\n",
       "      <td>0.336600</td>\n",
       "      <td>0</td>\n",
       "      <td>0</td>\n",
       "      <td>1</td>\n",
       "      <td>0</td>\n",
       "      <td>2</td>\n",
       "      <td>4</td>\n",
       "      <td>3</td>\n",
       "      <td>3</td>\n",
       "      <td>1</td>\n",
       "      <td>2</td>\n",
       "      <td>1</td>\n",
       "      <td>0</td>\n",
       "      <td>0</td>\n",
       "      <td>0</td>\n",
       "      <td>1</td>\n",
       "    </tr>\n",
       "    <tr>\n",
       "      <th>...</th>\n",
       "      <td>...</td>\n",
       "      <td>...</td>\n",
       "      <td>...</td>\n",
       "      <td>...</td>\n",
       "      <td>...</td>\n",
       "      <td>...</td>\n",
       "      <td>...</td>\n",
       "      <td>...</td>\n",
       "      <td>...</td>\n",
       "      <td>...</td>\n",
       "      <td>...</td>\n",
       "      <td>...</td>\n",
       "      <td>...</td>\n",
       "      <td>...</td>\n",
       "      <td>...</td>\n",
       "      <td>...</td>\n",
       "    </tr>\n",
       "    <tr>\n",
       "      <th>104</th>\n",
       "      <td>-0.392289</td>\n",
       "      <td>0</td>\n",
       "      <td>0</td>\n",
       "      <td>0</td>\n",
       "      <td>0</td>\n",
       "      <td>1</td>\n",
       "      <td>4</td>\n",
       "      <td>5</td>\n",
       "      <td>3</td>\n",
       "      <td>1</td>\n",
       "      <td>2</td>\n",
       "      <td>2</td>\n",
       "      <td>0</td>\n",
       "      <td>0</td>\n",
       "      <td>0</td>\n",
       "      <td>1</td>\n",
       "    </tr>\n",
       "    <tr>\n",
       "      <th>167</th>\n",
       "      <td>0.998973</td>\n",
       "      <td>0</td>\n",
       "      <td>0</td>\n",
       "      <td>0</td>\n",
       "      <td>0</td>\n",
       "      <td>2</td>\n",
       "      <td>3</td>\n",
       "      <td>3</td>\n",
       "      <td>3</td>\n",
       "      <td>1</td>\n",
       "      <td>2</td>\n",
       "      <td>2</td>\n",
       "      <td>0</td>\n",
       "      <td>0</td>\n",
       "      <td>0</td>\n",
       "      <td>1</td>\n",
       "    </tr>\n",
       "    <tr>\n",
       "      <th>63</th>\n",
       "      <td>0.950120</td>\n",
       "      <td>0</td>\n",
       "      <td>0</td>\n",
       "      <td>0</td>\n",
       "      <td>0</td>\n",
       "      <td>2</td>\n",
       "      <td>1</td>\n",
       "      <td>3</td>\n",
       "      <td>3</td>\n",
       "      <td>1</td>\n",
       "      <td>2</td>\n",
       "      <td>1</td>\n",
       "      <td>0</td>\n",
       "      <td>0</td>\n",
       "      <td>0</td>\n",
       "      <td>2</td>\n",
       "    </tr>\n",
       "    <tr>\n",
       "      <th>233</th>\n",
       "      <td>-0.309252</td>\n",
       "      <td>0</td>\n",
       "      <td>0</td>\n",
       "      <td>0</td>\n",
       "      <td>0</td>\n",
       "      <td>2</td>\n",
       "      <td>4</td>\n",
       "      <td>5</td>\n",
       "      <td>3</td>\n",
       "      <td>1</td>\n",
       "      <td>1</td>\n",
       "      <td>2</td>\n",
       "      <td>2</td>\n",
       "      <td>0</td>\n",
       "      <td>0</td>\n",
       "      <td>3</td>\n",
       "    </tr>\n",
       "    <tr>\n",
       "      <th>84</th>\n",
       "      <td>-0.392289</td>\n",
       "      <td>0</td>\n",
       "      <td>0</td>\n",
       "      <td>0</td>\n",
       "      <td>0</td>\n",
       "      <td>2</td>\n",
       "      <td>3</td>\n",
       "      <td>3</td>\n",
       "      <td>3</td>\n",
       "      <td>1</td>\n",
       "      <td>1</td>\n",
       "      <td>1</td>\n",
       "      <td>2</td>\n",
       "      <td>0</td>\n",
       "      <td>0</td>\n",
       "      <td>2</td>\n",
       "    </tr>\n",
       "  </tbody>\n",
       "</table>\n",
       "<p>77 rows × 16 columns</p>\n",
       "</div>"
      ],
      "text/plain": [
       "          Age  Gender  Smoking  Hx Smoking  Hx Radiothreapy  Thyroid Function  \\\n",
       "268 -0.478097       0        0           0                0                 2   \n",
       "250 -0.658766       0        0           0                0                 4   \n",
       "318 -0.658766       0        0           0                0                 2   \n",
       "331  0.797392       0        0           0                0                 2   \n",
       "56   0.336600       0        0           1                0                 2   \n",
       "..        ...     ...      ...         ...              ...               ...   \n",
       "104 -0.392289       0        0           0                0                 1   \n",
       "167  0.998973       0        0           0                0                 2   \n",
       "63   0.950120       0        0           0                0                 2   \n",
       "233 -0.309252       0        0           0                0                 2   \n",
       "84  -0.392289       0        0           0                0                 2   \n",
       "\n",
       "     Physical Examination  Adenopathy  Pathology  Focality  Risk  T  N  M  \\\n",
       "268                     3           3          3         1     2  3  0  0   \n",
       "250                     2           5          0         1     2  3  0  0   \n",
       "318                     1           0          3         0     1  3  2  0   \n",
       "331                     3           3          0         1     1  3  0  0   \n",
       "56                      4           3          3         1     2  1  0  0   \n",
       "..                    ...         ...        ...       ...   ... .. .. ..   \n",
       "104                     4           5          3         1     2  2  0  0   \n",
       "167                     3           3          3         1     2  2  0  0   \n",
       "63                      1           3          3         1     2  1  0  0   \n",
       "233                     4           5          3         1     1  2  2  0   \n",
       "84                      3           3          3         1     1  1  2  0   \n",
       "\n",
       "     Stage  Response  \n",
       "268      0         1  \n",
       "250      0         1  \n",
       "318      0         3  \n",
       "331      0         3  \n",
       "56       0         1  \n",
       "..     ...       ...  \n",
       "104      0         1  \n",
       "167      0         1  \n",
       "63       0         2  \n",
       "233      0         3  \n",
       "84       0         2  \n",
       "\n",
       "[77 rows x 16 columns]"
      ]
     },
     "execution_count": 32,
     "metadata": {},
     "output_type": "execute_result"
    }
   ],
   "source": [
    "X_test"
   ]
  },
  {
   "cell_type": "code",
   "execution_count": 33,
   "id": "cb24cc99-96f3-425e-a4d9-c5e8c2a5ff7d",
   "metadata": {},
   "outputs": [
    {
     "data": {
      "text/plain": [
       "Age                                              62\n",
       "Gender                                            M\n",
       "Smoking                                          No\n",
       "Hx Smoking                                       No\n",
       "Hx Radiothreapy                                  No\n",
       "Thyroid Function                          Euthyroid\n",
       "Physical Examination    Single nodular goiter-right\n",
       "Adenopathy                                       No\n",
       "Pathology                                 Papillary\n",
       "Focality                                  Uni-Focal\n",
       "Risk                                            Low\n",
       "T                                                T2\n",
       "N                                                N0\n",
       "M                                                M0\n",
       "Stage                                             I\n",
       "Response                      Structural Incomplete\n",
       "Recurred                                        Yes\n",
       "Name: 241, dtype: object"
      ]
     },
     "execution_count": 33,
     "metadata": {},
     "output_type": "execute_result"
    }
   ],
   "source": [
    "origdata = pd.read_csv(r\"C:\\Konark\\Fireblaze\\Machine Learning\\Final Project\\Differentiated Thyroid Cancer Recurrence.csv\")\n",
    "origdata.iloc[241]"
   ]
  },
  {
   "cell_type": "code",
   "execution_count": 34,
   "id": "1a59ab30-a761-4ab0-a072-0420cd8dbcc4",
   "metadata": {},
   "outputs": [
    {
     "data": {
      "text/plain": [
       "count    383.000000\n",
       "mean      40.866841\n",
       "std       15.134494\n",
       "min       15.000000\n",
       "25%       29.000000\n",
       "50%       37.000000\n",
       "75%       51.000000\n",
       "max       82.000000\n",
       "Name: Age, dtype: float64"
      ]
     },
     "execution_count": 34,
     "metadata": {},
     "output_type": "execute_result"
    }
   ],
   "source": [
    "origdata['Age'].describe()"
   ]
  },
  {
   "cell_type": "code",
   "execution_count": 35,
   "id": "c3ffe549-b3c6-4b4b-b7ed-b71ac03c84ed",
   "metadata": {},
   "outputs": [
    {
     "data": {
      "text/plain": [
       "count    3.830000e+02\n",
       "mean     3.895926e-16\n",
       "std      1.001308e+00\n",
       "min     -2.652252e+00\n",
       "25%     -7.540440e-01\n",
       "50%     -7.518363e-02\n",
       "75%      7.973920e-01\n",
       "max      2.040829e+00\n",
       "Name: Age, dtype: float64"
      ]
     },
     "execution_count": 35,
     "metadata": {},
     "output_type": "execute_result"
    }
   ],
   "source": [
    "data['Age'].describe()"
   ]
  },
  {
   "cell_type": "code",
   "execution_count": 36,
   "id": "aec34d41-66cc-400e-b0a3-09f2bacf4a3c",
   "metadata": {},
   "outputs": [
    {
     "ename": "NameError",
     "evalue": "name 'X_ip' is not defined",
     "output_type": "error",
     "traceback": [
      "\u001b[1;31m---------------------------------------------------------------------------\u001b[0m",
      "\u001b[1;31mNameError\u001b[0m                                 Traceback (most recent call last)",
      "Cell \u001b[1;32mIn[36], line 2\u001b[0m\n\u001b[0;32m      1\u001b[0m \u001b[38;5;66;03m### X_ip = []\u001b[39;00m\n\u001b[1;32m----> 2\u001b[0m X_ip\u001b[38;5;241m.\u001b[39mappend(\u001b[38;5;28mint\u001b[39m(\u001b[38;5;28minput\u001b[39m(\u001b[38;5;124m'\u001b[39m\u001b[38;5;124mEnter the Age of the Patient: \u001b[39m\u001b[38;5;124m'\u001b[39m)))\n\u001b[0;32m      3\u001b[0m X_ip\u001b[38;5;241m.\u001b[39mappend(\u001b[38;5;28mint\u001b[39m(\u001b[38;5;28minput\u001b[39m(\u001b[38;5;124m'\u001b[39m\u001b[38;5;124mEnter the Gender of the Patient: 0 for Female, 1 for Male\u001b[39m\u001b[38;5;124m'\u001b[39m)))\n\u001b[0;32m      4\u001b[0m X_ip\u001b[38;5;241m.\u001b[39mappend(\u001b[38;5;28mint\u001b[39m(\u001b[38;5;28minput\u001b[39m(\u001b[38;5;124m'\u001b[39m\u001b[38;5;124mDoes the Patient smokes?: 0 for No, 1 for Yes \u001b[39m\u001b[38;5;124m'\u001b[39m)))\n",
      "\u001b[1;31mNameError\u001b[0m: name 'X_ip' is not defined"
     ]
    }
   ],
   "source": [
    "###X_ip = []\n",
    "X_ip.append(int(input('Enter the Age of the Patient: ')))\n",
    "X_ip.append(int(input('Enter the Gender of the Patient: 0 for Female, 1 for Male')))\n",
    "X_ip.append(int(input('Does the Patient smokes?: 0 for No, 1 for Yes ')))\n",
    "X_ip.append(int(input('Does the Patient have a history of smoking?: 0 for No, 1 for Yes ')))\n",
    "X_ip.append(int(input('Does the Patient have a history of Radiography?: 0 for No, 1 for Yes ')))\n",
    "X_ip.append(int(input('Enter the Thyroid Function of the Patient: 0 for Clinical Hyperthyroidism, 1 for Clinical Hypothyroidism, 2 for Euthyroid, 3 for Subclinical Hyperthyroidism, 4 for Subclinical Hypothyroidism ')))\n",
    "X_ip.append(int(input('Enter the Physical Examination of the Patient: 0 for Diffuse goiter, 1 for Multinodular goiter, 2 for Normal, 3 for Single nodular goiter-left, 4 for Single nodular goiter-right ')))\n",
    "X_ip.append(int(input('Enter the Adenopathy of the Patient: 0 for Bilateral, 1 for Extensive, 2 for Left, 3 for No, 4 for Posterior, 5 for Right ')))\n",
    "X_ip.append(int(input('Enter the Pathology of the Patient: 0 for Follicular, 1 for Hurthel cell, 2 for Micropapillary, 3 for Papillary ')))\n",
    "X_ip.append(int(input('Enter the Focality of the Patient: 0 for Multi-Focal, 1 for Uni-Focal ')))\n",
    "X_ip.append(int(input('Enter the Risk of the Patient: 0 for High, 1 for Intermediate, 2 for Low')))\n",
    "X_ip.append(int(input('Enter the T of the Patient: 0 for T1a, 1 for T1b, 2 for T2, 3 for T3a, 4 for T3b, 5 for T4a, 6 for T4b ')))\n",
    "X_ip.append(int(input('Enter the N of the Patient: 0 for N0, 1 for N1a, 2 for N1b ')))\n",
    "X_ip.append(int(input('Enter the M of the Patient: 0 for M0, 1 for M1 ')))\n",
    "X_ip.append(int(input('Enter the Cancer Stage of the Patient: 0 for I, 1 for II, 2 for III, 3 for IVA, 4 for IVB ')))\n",
    "X_ip.append(int(input('Enter the Response of the Patient on the Therapy: 0 for Biochemical Incomplete, 1 for Excellent, 2 for Indeterminate, 3 for Structural Incomplete ')))\n",
    "a=0\n",
    "while(a!=1):    \n",
    "    if X_ip[0] in list(origdata['Age']):\n",
    "        X_ip[0] = data[origdata['Age']==X_ip[0]].iloc[0][0]\n",
    "        a=1\n",
    "    else:\n",
    "        if X_ip[0]>82:\n",
    "            X_ip[0]-=1\n",
    "        else:\n",
    "            X_ip[0]+=1\n",
    "        a = 0\n",
    "Result = int(RFC.predict([X_ip]))\n",
    "if Result==0:\n",
    "    print(\"\\n\\n\",\"There should be no risk of the Thyroid Cancer Recurrence for this patient.\")\n",
    "else:\n",
    "    print(\"\\n\\n\",\"There's a risk of the Thyroid Cancer Recurrence for this patient.\")"
   ]
  },
  {
   "cell_type": "code",
   "execution_count": null,
   "id": "52589c16-6d19-42d7-a09c-22e700d4d0a9",
   "metadata": {},
   "outputs": [],
   "source": [
    "int(np.array([0]))"
   ]
  },
  {
   "cell_type": "code",
   "execution_count": null,
   "id": "72b7a5d3-4889-4c75-a4ca-81ea31ded8eb",
   "metadata": {},
   "outputs": [],
   "source": [
    "sns.barplot(origdata,x='Recurred',y='Age',hue='Risk')\n",
    "plt.title('Barplot of Age v/s Recurred for Risk')\n",
    "plt.show()"
   ]
  },
  {
   "cell_type": "markdown",
   "id": "1b57bf42-ddaa-4f0b-ba0f-28c8f989f612",
   "metadata": {},
   "source": [
    "We can notice that in case of where the Risk was high, there was a certainty in the cancer recurrence."
   ]
  },
  {
   "cell_type": "code",
   "execution_count": null,
   "id": "8adef825-c537-4622-b6de-f8b3986f7412",
   "metadata": {},
   "outputs": [],
   "source": [
    "sns.barplot(origdata,x='Recurred',y='Age',hue='Stage')\n",
    "plt.title('Barplot of Age v/s Recurred for Stage')\n",
    "plt.show()"
   ]
  },
  {
   "cell_type": "markdown",
   "id": "7f1d472f-c3f9-4d0d-8d6e-1561a56d007f",
   "metadata": {},
   "source": [
    "We can notice that in case of where the cancer stage is 3 or above, there was a certainty in the cancer recurrence."
   ]
  },
  {
   "cell_type": "code",
   "execution_count": null,
   "id": "1a98f6a0-a62b-4e5c-9cca-dfe86a4f7ff7",
   "metadata": {},
   "outputs": [],
   "source": [
    "sns.barplot(origdata,x='Recurred',y='Age',hue=origdata.columns[13])\n",
    "plt.title('Barplot of Age v/s Recurred for M')\n",
    "plt.show()"
   ]
  },
  {
   "cell_type": "markdown",
   "id": "094bd68f-520c-4cd7-bee7-b22af7141a08",
   "metadata": {},
   "source": [
    "We can notice that in case of where the M parameter is M1, there was a certainty in the cancer recurrence."
   ]
  },
  {
   "cell_type": "code",
   "execution_count": null,
   "id": "d8f0aa28-e729-4b5e-8dde-594d2b5b8ccb",
   "metadata": {
    "scrolled": true
   },
   "outputs": [],
   "source": [
    "X_ip = []\n",
    "X_ip.append(int(input('Enter the Age of the Patient: ')))\n",
    "X_ip.append(int(input('Enter the Gender of the Patient: 0 for Female, 1 for Male')))\n",
    "X_ip.append(int(input('Does the Patient smokes?: 0 for No, 1 for Yes ')))\n",
    "X_ip.append(int(input('Does the Patient have a history of smoking?: 0 for No, 1 for Yes ')))\n",
    "X_ip.append(int(input('Does the Patient have a history of Radiography?: 0 for No, 1 for Yes ')))\n",
    "X_ip.append(int(input('Enter the Thyroid Function of the Patient: 0 for Clinical Hyperthyroidism, 1 for Clinical Hypothyroidism, 2 for Euthyroid, 3 for Subclinical Hyperthyroidism, 4 for Subclinical Hypothyroidism ')))\n",
    "X_ip.append(int(input('Enter the Physical Examination of the Patient: 0 for Diffuse goiter, 1 for Multinodular goiter, 2 for Normal, 3 for Single nodular goiter-left, 4 for Single nodular goiter-right ')))\n",
    "X_ip.append(int(input('Enter the Adenopathy of the Patient: 0 for Bilateral, 1 for Extensive, 2 for Left, 3 for No, 4 for Posterior, 5 for Right ')))\n",
    "X_ip.append(int(input('Enter the Pathology of the Patient: 0 for Follicular, 1 for Hurthel cell, 2 for Micropapillary, 3 for Papillary ')))\n",
    "X_ip.append(int(input('Enter the Focality of the Patient: 0 for Multi-Focal, 1 for Uni-Focal ')))\n",
    "X_ip.append(int(input('Enter the Risk of the Patient: 0 for High, 1 for Intermediate, 2 for Low')))\n",
    "X_ip.append(int(input('Enter the T of the Patient: 0 for T1a, 1 for T1b, 2 for T2, 3 for T3a, 4 for T3b, 5 for T4a, 6 for T4b ')))\n",
    "X_ip.append(int(input('Enter the N of the Patient: 0 for N0, 1 for N1a, 2 for N1b ')))\n",
    "X_ip.append(int(input('Enter the M of the Patient: 0 for M0, 1 for M1 ')))\n",
    "X_ip.append(int(input('Enter the Cancer Stage of the Patient: 0 for I, 1 for II, 2 for III, 3 for IVA, 4 for IVB ')))\n",
    "X_ip.append(int(input('Enter the Response of the Patient on the Therapy: 0 for Biochemical Incomplete, 1 for Excellent, 2 for Indeterminate, 3 for Structural Incomplete ')))"
   ]
  },
  {
   "cell_type": "code",
   "execution_count": null,
   "id": "1e6db86c-f0f7-4c61-ab3b-b134bf0cd629",
   "metadata": {},
   "outputs": [],
   "source": [
    "def model(Age,Gender,Smoking,HxSmoking,HxRadiothreapy,ThyroidFunction,PhysicalExamination,Adenopathy,Pathology,Focality,Risk,T,N,M,Stage,Response,Recurred):     \n",
    "    a=0\n",
    "    while(a!=1):    \n",
    "        if Age in list(origdata['Age']):\n",
    "            Age = data[origdata['Age']==inputs[0]].iloc[0][0]\n",
    "            a=1\n",
    "        else:\n",
    "            if Age>82:\n",
    "                inputs[0]-=1\n",
    "            else:\n",
    "                inputs[0]+=1\n",
    "            a = 0\n",
    "    input = np.array(Age,Gender,Smoking,HxSmoking,HxRadiothreapy,ThyroidFunction,PhysicalExamination,Adenopathy,Pathology,Focality,Risk,T,N,M,Stage,Response,Recurred)\n",
    "    Result = int(RFC.predict(input))\n",
    "    if Result==0:\n",
    "        return \"There should be no risk of the Thyroid Cancer Recurrence for this patient.\"\n",
    "    else:\n",
    "        return \"There's a risk of the Thyroid Cancer Recurrence for this patient.\""
   ]
  },
  {
   "cell_type": "code",
   "execution_count": null,
   "id": "277b9564-a4f9-4d20-8e5f-f5e244eb3774",
   "metadata": {},
   "outputs": [],
   "source": [
    "import gradio as gr\n",
    "\n",
    "def model(Age,Gender,Smoking,HxSmoking,HxRadiothreapy,ThyroidFunction,PhysicalExamination,Adenopathy,Pathology,Focality,Risk,T,N,M,Stage,Response,Recurred):     \n",
    "\n",
    "    input = np.array([[Age,Gender,Smoking,HxSmoking,HxRadiothreapy,ThyroidFunction,PhysicalExamination,Adenopathy,Pathology,Focality,Risk,T,N,M,Stage,Response,Recurred]])\n",
    "    Result = int(RFC.predict(input))[0]\n",
    "    if Result==0:\n",
    "        return \"There should be no risk of the Thyroid Cancer Recurrence for this patient.\"\n",
    "    else:\n",
    "        return \"There's a risk of the Thyroid Cancer Recurrence for this patient.\"\n",
    "\n",
    "inputs = [\n",
    "          gr.Number(label=f\"Enter the Age of the Patient:\"),\n",
    "          gr.Number(label=f\"Enter the Gender of the Patient: 0 for Female, 1 for Male\"),\n",
    "          gr.Number(label=f\"Does the Patient smokes?: 0 for No, 1 for Yes\"),\n",
    "          gr.Number(label=f\"Does the Patient have a history of smoking?: 0 for No, 1 for Yes\"),\n",
    "          gr.Number(label=f\"Does the Patient have a history of Radiography?: 0 for No, 1 for Yes\"),\n",
    "          gr.Number(label=f\"Enter the Thyroid Function of the Patient: 0 for Clinical Hyperthyroidism, 1 for Clinical Hypothyroidism, 2 for Euthyroid, 3 for Subclinical Hyperthyroidism, 4 for Subclinical Hypothyroidism\"),\n",
    "          gr.Number(label=f\"Enter the Physical Examination of the Patient: 0 for Diffuse goiter, 1 for Multinodular goiter, 2 for Normal, 3 for Single nodular goiter-left, 4 for Single nodular goiter-right\"),\n",
    "          gr.Number(label=f\"Enter the Adenopathy of the Patient: 0 for Bilateral, 1 for Extensive, 2 for Left, 3 for No, 4 for Posterior, 5 for Right\"),\n",
    "          gr.Number(label=f\"Enter the Pathology of the Patient: 0 for Follicular, 1 for Hurthel cell, 2 for Micropapillary, 3 for Papillary\"),\n",
    "          gr.Number(label=f\"Enter the Focality of the Patient: 0 for Multi-Focal, 1 for Uni-Focal\"),\n",
    "          gr.Number(label=f\"Enter the Risk of the Patient: 0 for High, 1 for Intermediate, 2 for Low\"),\n",
    "          gr.Number(label=f\"Enter the T of the Patient: 0 for T1a, 1 for T1b, 2 for T2, 3 for T3a, 4 for T3b, 5 for T4a, 6 for T4b\"),\n",
    "          gr.Number(label=f\"Enter the N of the Patient: 0 for N0, 1 for N1a, 2 for N1b\"),\n",
    "          gr.Number(label=f\"Enter the M of the Patient: 0 for M0, 1 for M1\"),\n",
    "          gr.Number(label=f\"Enter the Cancer Stage of the Patient: 0 for I, 1 for II, 2 for III, 3 for IVA, 4 for IVB\"),\n",
    "          gr.Number(label=f\"Enter the Response of the Patient on the Therapy: 0 for Biochemical Incomplete, 1 for Excellent, 2 for Indeterminate, 3 for Structural Incomplete\")\n",
    "]\n",
    "output = gr.Textbox(label=\"Prediction Result\")\n",
    "\n",
    "# Create the Gradio app\n",
    "app = gr.Interface(fn=model, inputs=inputs, outputs=output, title=\"ML Prediction\")\n",
    "\n",
    "# Launch the app\n",
    "app.launch()\n"
   ]
  },
  {
   "cell_type": "code",
   "execution_count": null,
   "id": "e4023473-d3cb-470e-87d0-c90a582fef60",
   "metadata": {},
   "outputs": [],
   "source": [
    "data.columns"
   ]
  },
  {
   "cell_type": "code",
   "execution_count": null,
   "id": "b65d2519-2298-4448-800d-d7ec3550ff7e",
   "metadata": {},
   "outputs": [],
   "source": []
  }
 ],
 "metadata": {
  "kernelspec": {
   "display_name": "Python 3 (ipykernel)",
   "language": "python",
   "name": "python3"
  },
  "language_info": {
   "codemirror_mode": {
    "name": "ipython",
    "version": 3
   },
   "file_extension": ".py",
   "mimetype": "text/x-python",
   "name": "python",
   "nbconvert_exporter": "python",
   "pygments_lexer": "ipython3",
   "version": "3.12.7"
  }
 },
 "nbformat": 4,
 "nbformat_minor": 5
}
